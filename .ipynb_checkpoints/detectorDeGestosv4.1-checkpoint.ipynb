{
 "cells": [
  {
   "cell_type": "code",
   "execution_count": null,
   "id": "d6ab2b99",
   "metadata": {},
   "outputs": [],
   "source": []
  },
  {
   "cell_type": "code",
   "execution_count": 1,
   "id": "204003d5",
   "metadata": {},
   "outputs": [],
   "source": [
    "#imports\n",
    "import csv\n",
    "import numpy as np\n",
    "import tensorflow as tf\n",
    "from sklearn.model_selection import train_test_split"
   ]
  },
  {
   "cell_type": "markdown",
   "id": "0e7b989e",
   "metadata": {},
   "source": [
    "#### Modelo y dataset a utilizar"
   ]
  },
  {
   "cell_type": "code",
   "execution_count": 2,
   "id": "ba6322aa",
   "metadata": {},
   "outputs": [],
   "source": [
    "RANDOM_SEED = 42\n",
    "\n",
    "dataset = 'model/keypoint_classifier/datasetDeGestos4.csv' #dataset a utilizar\n",
    "\n",
    "model_save_path = 'model/keypoint_classifier/gestos4_classifierv4.hdf5' #ruta donde guardar\n",
    "\n",
    "NUM_CLASSES = 4 #numero de clases"
   ]
  },
  {
   "cell_type": "markdown",
   "id": "d52ec014",
   "metadata": {},
   "source": [
    "####  Cargando datasets (paramteros X y Y) para el testing y training"
   ]
  },
  {
   "cell_type": "code",
   "execution_count": 3,
   "id": "33a8cbc4",
   "metadata": {},
   "outputs": [],
   "source": [
    "X_dataset = np.loadtxt(dataset, delimiter=',', dtype='float32', usecols=list(range(1, (21 * 2) + 1))) #se cargan la columnas del 1 al 43\n",
    "# print(X_dataset[0:2])"
   ]
  },
  {
   "cell_type": "code",
   "execution_count": 4,
   "id": "ca76d8ba",
   "metadata": {},
   "outputs": [
    {
     "data": {
      "text/plain": [
       "(4450, 42)"
      ]
     },
     "execution_count": 4,
     "metadata": {},
     "output_type": "execute_result"
    }
   ],
   "source": [
    "X_dataset.shape"
   ]
  },
  {
   "cell_type": "code",
   "execution_count": 5,
   "id": "5fd798a3",
   "metadata": {},
   "outputs": [],
   "source": [
    "y_dataset = np.loadtxt(dataset, delimiter=',', dtype='int32', usecols=(0)) #se carga la columna 0\n",
    "# print(y_dataset[0:2])"
   ]
  },
  {
   "cell_type": "code",
   "execution_count": 6,
   "id": "1ca5b626",
   "metadata": {},
   "outputs": [],
   "source": [
    "X_train, X_test, y_train, y_test = train_test_split(X_dataset, y_dataset, train_size=0.75, random_state=RANDOM_SEED)"
   ]
  },
  {
   "cell_type": "markdown",
   "id": "81da6f3f",
   "metadata": {},
   "source": [
    "## Estructura del modelo"
   ]
  },
  {
   "cell_type": "code",
   "execution_count": 7,
   "id": "6ef01143",
   "metadata": {
    "scrolled": true
   },
   "outputs": [
    {
     "name": "stdout",
     "output_type": "stream",
     "text": [
      "Model: \"sequential\"\n",
      "_________________________________________________________________\n",
      " Layer (type)                Output Shape              Param #   \n",
      "=================================================================\n",
      " dropout (Dropout)           (None, 42)                0         \n",
      "                                                                 \n",
      " dense (Dense)               (None, 20)                860       \n",
      "                                                                 \n",
      " dropout_1 (Dropout)         (None, 20)                0         \n",
      "                                                                 \n",
      " dense_1 (Dense)             (None, 10)                210       \n",
      "                                                                 \n",
      " dense_2 (Dense)             (None, 3)                 33        \n",
      "                                                                 \n",
      "=================================================================\n",
      "Total params: 1,103\n",
      "Trainable params: 1,103\n",
      "Non-trainable params: 0\n",
      "_________________________________________________________________\n"
     ]
    }
   ],
   "source": [
    "model = tf.keras.models.Sequential([\n",
    "    tf.keras.layers.Input((21 * 2, )),\n",
    "    tf.keras.layers.Dropout(0.2),\n",
    "    tf.keras.layers.Dense(20, activation='relu'),\n",
    "    tf.keras.layers.Dropout(0.4),\n",
    "    tf.keras.layers.Dense(10, activation='relu'),\n",
    "    tf.keras.layers.Dense(NUM_CLASSES, activation='softmax')\n",
    "])\n",
    "model.summary() "
   ]
  },
  {
   "cell_type": "code",
   "execution_count": 8,
   "id": "d790d063",
   "metadata": {},
   "outputs": [],
   "source": [
    "cp_callback = tf.keras.callbacks.ModelCheckpoint(model_save_path, verbose=1, save_weights_only=False)\n",
    "es_callback = tf.keras.callbacks.EarlyStopping(patience=20, verbose=1)"
   ]
  },
  {
   "cell_type": "code",
   "execution_count": 9,
   "id": "420155b3",
   "metadata": {},
   "outputs": [],
   "source": [
    "# compilación del modelo\n",
    "model.compile(\n",
    "    optimizer='adam',\n",
    "    loss='sparse_categorical_crossentropy',\n",
    "    metrics=['accuracy']\n",
    ")"
   ]
  },
  {
   "cell_type": "markdown",
   "id": "428b5fd7",
   "metadata": {},
   "source": [
    "# Training del modelo con el dataset"
   ]
  },
  {
   "cell_type": "code",
   "execution_count": 12,
   "id": "15ac617e",
   "metadata": {},
   "outputs": [
    {
     "name": "stdout",
     "output_type": "stream",
     "text": [
      "Epoch 1/1000\n",
      " 1/27 [>.............................] - ETA: 0s - loss: 0.3110 - accuracy: 0.9062\n",
      "Epoch 00001: saving model to model/keypoint_classifier\\keypoint_classifier.hdf5\n",
      "27/27 [==============================] - 0s 5ms/step - loss: 0.3608 - accuracy: 0.8726 - val_loss: 0.1544 - val_accuracy: 0.9775\n",
      "Epoch 2/1000\n",
      " 1/27 [>.............................] - ETA: 0s - loss: 0.3411 - accuracy: 0.8438\n",
      "Epoch 00002: saving model to model/keypoint_classifier\\keypoint_classifier.hdf5\n",
      "27/27 [==============================] - 0s 5ms/step - loss: 0.3889 - accuracy: 0.8532 - val_loss: 0.1601 - val_accuracy: 0.9721\n",
      "Epoch 3/1000\n",
      "25/27 [==========================>...] - ETA: 0s - loss: 0.3674 - accuracy: 0.8597\n",
      "Epoch 00003: saving model to model/keypoint_classifier\\keypoint_classifier.hdf5\n",
      "27/27 [==============================] - 0s 5ms/step - loss: 0.3655 - accuracy: 0.8595 - val_loss: 0.1577 - val_accuracy: 0.9712\n",
      "Epoch 4/1000\n",
      "27/27 [==============================] - ETA: 0s - loss: 0.3688 - accuracy: 0.8684\n",
      "Epoch 00004: saving model to model/keypoint_classifier\\keypoint_classifier.hdf5\n",
      "27/27 [==============================] - 0s 5ms/step - loss: 0.3688 - accuracy: 0.8684 - val_loss: 0.1562 - val_accuracy: 0.9757\n",
      "Epoch 5/1000\n",
      "25/27 [==========================>...] - ETA: 0s - loss: 0.3645 - accuracy: 0.8672\n",
      "Epoch 00005: saving model to model/keypoint_classifier\\keypoint_classifier.hdf5\n",
      "27/27 [==============================] - 0s 5ms/step - loss: 0.3648 - accuracy: 0.8675 - val_loss: 0.1607 - val_accuracy: 0.9712\n",
      "Epoch 6/1000\n",
      "24/27 [=========================>....] - ETA: 0s - loss: 0.3776 - accuracy: 0.8607\n",
      "Epoch 00006: saving model to model/keypoint_classifier\\keypoint_classifier.hdf5\n",
      "27/27 [==============================] - 0s 5ms/step - loss: 0.3760 - accuracy: 0.8616 - val_loss: 0.1623 - val_accuracy: 0.9704\n",
      "Epoch 7/1000\n",
      " 1/27 [>.............................] - ETA: 0s - loss: 0.2805 - accuracy: 0.8984\n",
      "Epoch 00007: saving model to model/keypoint_classifier\\keypoint_classifier.hdf5\n",
      "27/27 [==============================] - 0s 4ms/step - loss: 0.3503 - accuracy: 0.8681 - val_loss: 0.1624 - val_accuracy: 0.9757\n",
      "Epoch 8/1000\n",
      " 1/27 [>.............................] - ETA: 0s - loss: 0.3852 - accuracy: 0.8516\n",
      "Epoch 00008: saving model to model/keypoint_classifier\\keypoint_classifier.hdf5\n",
      "27/27 [==============================] - 0s 4ms/step - loss: 0.3715 - accuracy: 0.8642 - val_loss: 0.1592 - val_accuracy: 0.9721\n",
      "Epoch 9/1000\n",
      " 1/27 [>.............................] - ETA: 0s - loss: 0.3986 - accuracy: 0.8359\n",
      "Epoch 00009: saving model to model/keypoint_classifier\\keypoint_classifier.hdf5\n",
      "27/27 [==============================] - 0s 5ms/step - loss: 0.3435 - accuracy: 0.8783 - val_loss: 0.1557 - val_accuracy: 0.9775\n",
      "Epoch 10/1000\n",
      " 1/27 [>.............................] - ETA: 0s - loss: 0.4414 - accuracy: 0.8438\n",
      "Epoch 00010: saving model to model/keypoint_classifier\\keypoint_classifier.hdf5\n",
      "27/27 [==============================] - 0s 4ms/step - loss: 0.3711 - accuracy: 0.8657 - val_loss: 0.1570 - val_accuracy: 0.9820\n",
      "Epoch 11/1000\n",
      " 1/27 [>.............................] - ETA: 0s - loss: 0.3069 - accuracy: 0.8984\n",
      "Epoch 00011: saving model to model/keypoint_classifier\\keypoint_classifier.hdf5\n",
      "27/27 [==============================] - 0s 4ms/step - loss: 0.3521 - accuracy: 0.8711 - val_loss: 0.1543 - val_accuracy: 0.9775\n",
      "Epoch 12/1000\n",
      " 1/27 [>.............................] - ETA: 0s - loss: 0.4101 - accuracy: 0.8750\n",
      "Epoch 00012: saving model to model/keypoint_classifier\\keypoint_classifier.hdf5\n",
      "27/27 [==============================] - 0s 4ms/step - loss: 0.3766 - accuracy: 0.8642 - val_loss: 0.1633 - val_accuracy: 0.9730\n",
      "Epoch 13/1000\n",
      " 1/27 [>.............................] - ETA: 0s - loss: 0.3968 - accuracy: 0.8594\n",
      "Epoch 00013: saving model to model/keypoint_classifier\\keypoint_classifier.hdf5\n",
      "27/27 [==============================] - 0s 4ms/step - loss: 0.3523 - accuracy: 0.8747 - val_loss: 0.1600 - val_accuracy: 0.9712\n",
      "Epoch 14/1000\n",
      " 1/27 [>.............................] - ETA: 0s - loss: 0.3699 - accuracy: 0.8359\n",
      "Epoch 00014: saving model to model/keypoint_classifier\\keypoint_classifier.hdf5\n",
      "27/27 [==============================] - 0s 4ms/step - loss: 0.3659 - accuracy: 0.8666 - val_loss: 0.1689 - val_accuracy: 0.9677\n",
      "Epoch 15/1000\n",
      " 1/27 [>.............................] - ETA: 0s - loss: 0.6262 - accuracy: 0.7891\n",
      "Epoch 00015: saving model to model/keypoint_classifier\\keypoint_classifier.hdf5\n",
      "27/27 [==============================] - 0s 4ms/step - loss: 0.3752 - accuracy: 0.8616 - val_loss: 0.1709 - val_accuracy: 0.9704\n",
      "Epoch 16/1000\n",
      " 1/27 [>.............................] - ETA: 0s - loss: 0.2532 - accuracy: 0.9141\n",
      "Epoch 00016: saving model to model/keypoint_classifier\\keypoint_classifier.hdf5\n",
      "27/27 [==============================] - 0s 4ms/step - loss: 0.3827 - accuracy: 0.8636 - val_loss: 0.1628 - val_accuracy: 0.9721\n",
      "Epoch 17/1000\n",
      " 1/27 [>.............................] - ETA: 0s - loss: 0.3833 - accuracy: 0.8438\n",
      "Epoch 00017: saving model to model/keypoint_classifier\\keypoint_classifier.hdf5\n",
      "27/27 [==============================] - 0s 4ms/step - loss: 0.3658 - accuracy: 0.8693 - val_loss: 0.1598 - val_accuracy: 0.9721\n",
      "Epoch 18/1000\n",
      " 1/27 [>.............................] - ETA: 0s - loss: 0.4470 - accuracy: 0.8516\n",
      "Epoch 00018: saving model to model/keypoint_classifier\\keypoint_classifier.hdf5\n",
      "27/27 [==============================] - 0s 4ms/step - loss: 0.3715 - accuracy: 0.8634 - val_loss: 0.1630 - val_accuracy: 0.9686\n",
      "Epoch 19/1000\n",
      " 1/27 [>.............................] - ETA: 0s - loss: 0.4147 - accuracy: 0.8594\n",
      "Epoch 00019: saving model to model/keypoint_classifier\\keypoint_classifier.hdf5\n",
      "27/27 [==============================] - 0s 4ms/step - loss: 0.3691 - accuracy: 0.8651 - val_loss: 0.1609 - val_accuracy: 0.9712\n",
      "Epoch 20/1000\n",
      " 1/27 [>.............................] - ETA: 0s - loss: 0.3256 - accuracy: 0.8750\n",
      "Epoch 00020: saving model to model/keypoint_classifier\\keypoint_classifier.hdf5\n",
      "27/27 [==============================] - 0s 4ms/step - loss: 0.3531 - accuracy: 0.8711 - val_loss: 0.1517 - val_accuracy: 0.9739\n",
      "Epoch 21/1000\n",
      " 1/27 [>.............................] - ETA: 0s - loss: 0.3417 - accuracy: 0.8750\n",
      "Epoch 00021: saving model to model/keypoint_classifier\\keypoint_classifier.hdf5\n",
      "27/27 [==============================] - 0s 4ms/step - loss: 0.3835 - accuracy: 0.8657 - val_loss: 0.1592 - val_accuracy: 0.9748\n",
      "Epoch 22/1000\n",
      " 1/27 [>.............................] - ETA: 0s - loss: 0.3468 - accuracy: 0.8984\n",
      "Epoch 00022: saving model to model/keypoint_classifier\\keypoint_classifier.hdf5\n",
      "27/27 [==============================] - 0s 4ms/step - loss: 0.3595 - accuracy: 0.8711 - val_loss: 0.1619 - val_accuracy: 0.9766\n",
      "Epoch 23/1000\n",
      " 1/27 [>.............................] - ETA: 0s - loss: 0.3855 - accuracy: 0.8438\n",
      "Epoch 00023: saving model to model/keypoint_classifier\\keypoint_classifier.hdf5\n",
      "27/27 [==============================] - 0s 5ms/step - loss: 0.3664 - accuracy: 0.8592 - val_loss: 0.1637 - val_accuracy: 0.9721\n",
      "Epoch 24/1000\n",
      " 1/27 [>.............................] - ETA: 0s - loss: 0.3346 - accuracy: 0.8984\n",
      "Epoch 00024: saving model to model/keypoint_classifier\\keypoint_classifier.hdf5\n",
      "27/27 [==============================] - 0s 4ms/step - loss: 0.3675 - accuracy: 0.8634 - val_loss: 0.1665 - val_accuracy: 0.9712\n",
      "Epoch 25/1000\n",
      " 1/27 [>.............................] - ETA: 0s - loss: 0.3602 - accuracy: 0.8750\n",
      "Epoch 00025: saving model to model/keypoint_classifier\\keypoint_classifier.hdf5\n",
      "27/27 [==============================] - 0s 4ms/step - loss: 0.3677 - accuracy: 0.8690 - val_loss: 0.1648 - val_accuracy: 0.9775\n",
      "Epoch 26/1000\n",
      " 1/27 [>.............................] - ETA: 0s - loss: 0.3640 - accuracy: 0.8828\n",
      "Epoch 00026: saving model to model/keypoint_classifier\\keypoint_classifier.hdf5\n",
      "27/27 [==============================] - 0s 4ms/step - loss: 0.3718 - accuracy: 0.8547 - val_loss: 0.1689 - val_accuracy: 0.9802\n",
      "Epoch 27/1000\n",
      " 1/27 [>.............................] - ETA: 0s - loss: 0.3487 - accuracy: 0.8672\n",
      "Epoch 00027: saving model to model/keypoint_classifier\\keypoint_classifier.hdf5\n",
      "27/27 [==============================] - 0s 4ms/step - loss: 0.3588 - accuracy: 0.8657 - val_loss: 0.1626 - val_accuracy: 0.9811\n"
     ]
    },
    {
     "name": "stdout",
     "output_type": "stream",
     "text": [
      "Epoch 28/1000\n",
      " 1/27 [>.............................] - ETA: 0s - loss: 0.4174 - accuracy: 0.8438\n",
      "Epoch 00028: saving model to model/keypoint_classifier\\keypoint_classifier.hdf5\n",
      "27/27 [==============================] - 0s 4ms/step - loss: 0.3542 - accuracy: 0.8753 - val_loss: 0.1644 - val_accuracy: 0.9793\n",
      "Epoch 29/1000\n",
      " 1/27 [>.............................] - ETA: 0s - loss: 0.3139 - accuracy: 0.8828\n",
      "Epoch 00029: saving model to model/keypoint_classifier\\keypoint_classifier.hdf5\n",
      "27/27 [==============================] - 0s 4ms/step - loss: 0.3776 - accuracy: 0.8634 - val_loss: 0.1570 - val_accuracy: 0.9757\n",
      "Epoch 30/1000\n",
      " 1/27 [>.............................] - ETA: 0s - loss: 0.3201 - accuracy: 0.8203\n",
      "Epoch 00030: saving model to model/keypoint_classifier\\keypoint_classifier.hdf5\n",
      "27/27 [==============================] - 0s 4ms/step - loss: 0.3682 - accuracy: 0.8619 - val_loss: 0.1588 - val_accuracy: 0.9775\n",
      "Epoch 31/1000\n",
      " 1/27 [>.............................] - ETA: 0s - loss: 0.3868 - accuracy: 0.8281\n",
      "Epoch 00031: saving model to model/keypoint_classifier\\keypoint_classifier.hdf5\n",
      "27/27 [==============================] - 0s 4ms/step - loss: 0.3577 - accuracy: 0.8595 - val_loss: 0.1655 - val_accuracy: 0.9757\n",
      "Epoch 32/1000\n",
      " 1/27 [>.............................] - ETA: 0s - loss: 0.2629 - accuracy: 0.9062\n",
      "Epoch 00032: saving model to model/keypoint_classifier\\keypoint_classifier.hdf5\n",
      "27/27 [==============================] - 0s 4ms/step - loss: 0.3516 - accuracy: 0.8699 - val_loss: 0.1669 - val_accuracy: 0.9721\n",
      "Epoch 33/1000\n",
      " 1/27 [>.............................] - ETA: 0s - loss: 0.2788 - accuracy: 0.8984\n",
      "Epoch 00033: saving model to model/keypoint_classifier\\keypoint_classifier.hdf5\n",
      "27/27 [==============================] - 0s 4ms/step - loss: 0.3566 - accuracy: 0.8723 - val_loss: 0.1609 - val_accuracy: 0.9748\n",
      "Epoch 34/1000\n",
      " 1/27 [>.............................] - ETA: 0s - loss: 0.3213 - accuracy: 0.8672\n",
      "Epoch 00034: saving model to model/keypoint_classifier\\keypoint_classifier.hdf5\n",
      "27/27 [==============================] - 0s 4ms/step - loss: 0.3791 - accuracy: 0.8568 - val_loss: 0.1693 - val_accuracy: 0.9704\n",
      "Epoch 35/1000\n",
      " 1/27 [>.............................] - ETA: 0s - loss: 0.4161 - accuracy: 0.8438\n",
      "Epoch 00035: saving model to model/keypoint_classifier\\keypoint_classifier.hdf5\n",
      "27/27 [==============================] - 0s 4ms/step - loss: 0.3640 - accuracy: 0.8744 - val_loss: 0.1647 - val_accuracy: 0.9721\n",
      "Epoch 36/1000\n",
      " 1/27 [>.............................] - ETA: 0s - loss: 0.4435 - accuracy: 0.8750\n",
      "Epoch 00036: saving model to model/keypoint_classifier\\keypoint_classifier.hdf5\n",
      "27/27 [==============================] - 0s 4ms/step - loss: 0.3621 - accuracy: 0.8705 - val_loss: 0.1596 - val_accuracy: 0.9739\n",
      "Epoch 37/1000\n",
      " 1/27 [>.............................] - ETA: 0s - loss: 0.2692 - accuracy: 0.9297\n",
      "Epoch 00037: saving model to model/keypoint_classifier\\keypoint_classifier.hdf5\n",
      "27/27 [==============================] - 0s 4ms/step - loss: 0.3478 - accuracy: 0.8735 - val_loss: 0.1590 - val_accuracy: 0.9748\n",
      "Epoch 38/1000\n",
      " 1/27 [>.............................] - ETA: 0s - loss: 0.2868 - accuracy: 0.9297\n",
      "Epoch 00038: saving model to model/keypoint_classifier\\keypoint_classifier.hdf5\n",
      "27/27 [==============================] - 0s 4ms/step - loss: 0.3597 - accuracy: 0.8657 - val_loss: 0.1549 - val_accuracy: 0.9739\n",
      "Epoch 39/1000\n",
      " 1/27 [>.............................] - ETA: 0s - loss: 0.2508 - accuracy: 0.9219\n",
      "Epoch 00039: saving model to model/keypoint_classifier\\keypoint_classifier.hdf5\n",
      "27/27 [==============================] - 0s 4ms/step - loss: 0.3596 - accuracy: 0.8628 - val_loss: 0.1636 - val_accuracy: 0.9704\n",
      "Epoch 40/1000\n",
      " 1/27 [>.............................] - ETA: 0s - loss: 0.3452 - accuracy: 0.8594\n",
      "Epoch 00040: saving model to model/keypoint_classifier\\keypoint_classifier.hdf5\n",
      "27/27 [==============================] - 0s 4ms/step - loss: 0.3620 - accuracy: 0.8663 - val_loss: 0.1654 - val_accuracy: 0.9721\n",
      "Epoch 00040: early stopping\n"
     ]
    },
    {
     "data": {
      "text/plain": [
       "<keras.callbacks.History at 0x20f1e392c70>"
      ]
     },
     "execution_count": 12,
     "metadata": {},
     "output_type": "execute_result"
    }
   ],
   "source": [
    "model.fit(\n",
    "    X_train,\n",
    "    y_train,\n",
    "    epochs=1000,\n",
    "    batch_size=128,\n",
    "    validation_data=(X_test, y_test),\n",
    "    callbacks=[cp_callback, es_callback]\n",
    ")"
   ]
  },
  {
   "cell_type": "code",
   "execution_count": 13,
   "id": "4682dcdc",
   "metadata": {},
   "outputs": [
    {
     "name": "stdout",
     "output_type": "stream",
     "text": [
      "9/9 [==============================] - 0s 1ms/step - loss: 0.1654 - accuracy: 0.9721\n"
     ]
    }
   ],
   "source": [
    "val_loss, val_acc = model.evaluate(X_test, y_test, batch_size=128)"
   ]
  },
  {
   "cell_type": "code",
   "execution_count": 14,
   "id": "03af2f2b",
   "metadata": {},
   "outputs": [],
   "source": [
    "model = tf.keras.models.load_model(model_save_path)"
   ]
  },
  {
   "cell_type": "code",
   "execution_count": 15,
   "id": "b6ad8150",
   "metadata": {},
   "outputs": [
    {
     "name": "stdout",
     "output_type": "stream",
     "text": [
      "[0.6192416  0.27802774 0.10273061]\n",
      "0\n"
     ]
    }
   ],
   "source": [
    "predict_result = model.predict(np.array([X_test[0]]))\n",
    "print(np.squeeze(predict_result))\n",
    "print(np.argmax(np.squeeze(predict_result)))"
   ]
  },
  {
   "cell_type": "markdown",
   "id": "88f449d4",
   "metadata": {},
   "source": [
    "# Validación y métricas"
   ]
  },
  {
   "cell_type": "code",
   "execution_count": 17,
   "id": "12412287",
   "metadata": {},
   "outputs": [
    {
     "data": {
      "image/png": "[encoded data removed]",
      "text/plain": [
       "<Figure size 504x432 with 2 Axes>"
      ]
     },
     "metadata": {
      "needs_background": "light"
     },
     "output_type": "display_data"
    },
    {
     "name": "stdout",
     "output_type": "stream",
     "text": [
      "Classification Report\n",
      "              precision    recall  f1-score   support\n",
      "\n",
      "           0       1.00      0.98      0.99       410\n",
      "           1       0.98      0.95      0.96       385\n",
      "           2       0.93      0.99      0.96       318\n",
      "\n",
      "    accuracy                           0.97      1113\n",
      "   macro avg       0.97      0.97      0.97      1113\n",
      "weighted avg       0.97      0.97      0.97      1113\n",
      "\n"
     ]
    }
   ],
   "source": [
    "import pandas as pd\n",
    "import seaborn as sns\n",
    "import matplotlib.pyplot as plt\n",
    "from sklearn.metrics import confusion_matrix, classification_report\n",
    "\n",
    "def print_confusion_matrix(y_true, y_pred, report=True):\n",
    "    labels = sorted(list(set(y_true)))\n",
    "    cmx_data = confusion_matrix(y_true, y_pred, labels=labels)\n",
    "    \n",
    "    df_cmx = pd.DataFrame(cmx_data, index=labels, columns=labels)\n",
    " \n",
    "    fig, ax = plt.subplots(figsize=(7, 6))\n",
    "    sns.heatmap(df_cmx, annot=True, fmt='g' ,square=False)\n",
    "    ax.set_ylim(len(set(y_true)), 0)\n",
    "    plt.show()\n",
    "    \n",
    "    if report:\n",
    "        print('Classification Report')\n",
    "        print(classification_report(y_test, y_pred))\n",
    "\n",
    "Y_pred = model.predict(X_test)\n",
    "y_pred = np.argmax(Y_pred, axis=1)\n",
    "\n",
    "print_confusion_matrix(y_test, y_pred)"
   ]
  },
  {
   "cell_type": "markdown",
   "id": "8cafff51",
   "metadata": {},
   "source": [
    "# Guardar modelo"
   ]
  },
  {
   "cell_type": "code",
   "execution_count": 18,
   "id": "a2d72a9a",
   "metadata": {},
   "outputs": [],
   "source": [
    "model.save(model_save_path, include_optimizer=False)"
   ]
  },
  {
   "cell_type": "code",
   "execution_count": null,
   "id": "cfffe8bf",
   "metadata": {},
   "outputs": [],
   "source": []
  }
 ],
 "metadata": {
  "kernelspec": {
   "display_name": "Python 3 (ipykernel)",
   "language": "python",
   "name": "python3"
  },
  "language_info": {
   "codemirror_mode": {
    "name": "ipython",
    "version": 3
   },
   "file_extension": ".py",
   "mimetype": "text/x-python",
   "name": "python",
   "nbconvert_exporter": "python",
   "pygments_lexer": "ipython3",
   "version": "3.9.5"
  }
 },
 "nbformat": 4,
 "nbformat_minor": 5
}
