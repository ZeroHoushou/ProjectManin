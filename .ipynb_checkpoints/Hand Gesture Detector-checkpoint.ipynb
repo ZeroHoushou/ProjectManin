{
 "cells": [
  {
   "cell_type": "code",
   "execution_count": 1,
   "id": "204003d5",
   "metadata": {},
   "outputs": [],
   "source": [
    "#imports\n",
    "import csv\n",
    "import numpy as np\n",
    "import tensorflow as tf\n",
    "from sklearn.model_selection import train_test_split"
   ]
  },
  {
   "cell_type": "markdown",
   "id": "667fd5e5",
   "metadata": {},
   "source": [
    "### Modelo y dataset a utilizar"
   ]
  },
  {
   "cell_type": "code",
   "execution_count": 2,
   "id": "92e3233e",
   "metadata": {},
   "outputs": [],
   "source": [
    "RANDOM_SEED = 42\n",
    "\n",
    "dataset = 'model/keypoint_classifier/keypoint.csv' #datset a utilizar\n",
    "\n",
    "model_save_path = 'model/keypoint_classifier/keypoint_classifier.hdf5' #ruta donde guardar\n",
    "\n",
    "NUM_CLASSES = 3 #numero de clases"
   ]
  },
  {
   "cell_type": "code",
   "execution_count": null,
   "id": "47efea92",
   "metadata": {},
   "outputs": [],
   "source": []
  }
 ],
 "metadata": {
  "kernelspec": {
   "display_name": "Python 3 (ipykernel)",
   "language": "python",
   "name": "python3"
  },
  "language_info": {
   "codemirror_mode": {
    "name": "ipython",
    "version": 3
   },
   "file_extension": ".py",
   "mimetype": "text/x-python",
   "name": "python",
   "nbconvert_exporter": "python",
   "pygments_lexer": "ipython3",
   "version": "3.9.5"
  }
 },
 "nbformat": 4,
 "nbformat_minor": 5
}
